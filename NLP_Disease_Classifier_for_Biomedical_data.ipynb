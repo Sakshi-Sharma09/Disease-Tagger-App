{
 "cells": [
  {
   "cell_type": "code",
   "execution_count": 1,
   "metadata": {
    "executionInfo": {
     "elapsed": 7,
     "status": "ok",
     "timestamp": 1753902376971,
     "user": {
      "displayName": "Sakshi sharma",
      "userId": "15287343271339922023"
     },
     "user_tz": -330
    },
    "id": "KLaN1Tb6YznX"
   },
   "outputs": [],
   "source": [
    "#Disease : Therapeutic Area Map\n",
    "\n",
    "disease_area_map = {\n",
    "    # Endocrinology\n",
    "    \"diabetes\": \"Endocrinology\",\n",
    "    \"hypothyroidism\": \"Endocrinology\",\n",
    "    \"cushing's syndrome\": \"Endocrinology\",\n",
    "    \"acromegaly\": \"Endocrinology\",\n",
    "\n",
    "    # Oncology\n",
    "    \"breast cancer\": \"Oncology\",\n",
    "    \"lung cancer\": \"Oncology\",\n",
    "    \"prostate cancer\": \"Oncology\",\n",
    "    \"leukemia\": \"Oncology\",\n",
    "    \"lymphoma\": \"Oncology\",\n",
    "    \"glioblastoma\": \"Oncology\",\n",
    "\n",
    "    # Pulmonology\n",
    "    \"asthma\": \"Pulmonology\",\n",
    "    \"chronic obstructive pulmonary disease\": \"Pulmonology\",\n",
    "    \"tuberculosis\": \"Pulmonology\",\n",
    "    \"pulmonary fibrosis\": \"Pulmonology\",\n",
    "\n",
    "    # Neurology\n",
    "    \"epilepsy\": \"Neurology\",\n",
    "    \"alzheimer's disease\": \"Neurology\",\n",
    "    \"parkinson's disease\": \"Neurology\",\n",
    "    \"multiple sclerosis\": \"Neurology\",\n",
    "    \"migraine\": \"Neurology\",\n",
    "\n",
    "    # Cardiology\n",
    "    \"hypertension\": \"Cardiology\",\n",
    "    \"myocardial infarction\": \"Cardiology\",\n",
    "    \"arrhythmia\": \"Cardiology\",\n",
    "    \"congestive heart failure\": \"Cardiology\",\n",
    "    \"stroke\": \"Cardiology\",\n",
    "\n",
    "    # Gastroenterology\n",
    "    \"crohn's disease\": \"Gastroenterology\",\n",
    "    \"ulcerative colitis\": \"Gastroenterology\",\n",
    "    \"hepatitis b\": \"Gastroenterology\",\n",
    "    \"irritable bowel syndrome\": \"Gastroenterology\",\n",
    "\n",
    "    # Infectious Diseases\n",
    "    \"covid-19\": \"Infectious Disease\",\n",
    "    \"malaria\": \"Infectious Disease\",\n",
    "    \"dengue\": \"Infectious Disease\",\n",
    "    \"hiv\": \"Infectious Disease\",\n",
    "\n",
    "    # Dermatology\n",
    "    \"psoriasis\": \"Dermatology\",\n",
    "    \"eczema\": \"Dermatology\",\n",
    "    \"acne\": \"Dermatology\",\n",
    "\n",
    "    # Nephrology\n",
    "    \"chronic kidney disease\": \"Nephrology\",\n",
    "    \"glomerulonephritis\": \"Nephrology\",\n",
    "\n",
    "    # Rheumatology\n",
    "    \"rheumatoid arthritis\": \"Rheumatology\",\n",
    "    \"lupus\": \"Rheumatology\",\n",
    "\n",
    "    # Psychiatry\n",
    "    \"depression\": \"Psychiatry\",\n",
    "    \"schizophrenia\": \"Psychiatry\",\n",
    "    \"anxiety\": \"Psychiatry\",\n",
    "    \"bipolar disorder\": \"Psychiatry\"\n",
    "}"
   ]
  },
  {
   "cell_type": "code",
   "execution_count": 3,
   "metadata": {
    "executionInfo": {
     "elapsed": 44,
     "status": "ok",
     "timestamp": 1753902381176,
     "user": {
      "displayName": "Sakshi sharma",
      "userId": "15287343271339922023"
     },
     "user_tz": -330
    },
    "id": "52UYoko2ZZgA"
   },
   "outputs": [],
   "source": [
    "#Sample Biomedical Sentences\n",
    "\n",
    "sentences = [\n",
    "    \"This study explores treatment options for diabetes in adults.\",\n",
    "    \"Breast cancer patients were given a new monoclonal antibody.\",\n",
    "    \"Epilepsy is a chronic condition affecting the brain.\",\n",
    "    \"The prevalence of hypertension has increased among the elderly.\",\n",
    "    \"COVID-19 vaccines showed high efficacy in preventing severe infection.\",\n",
    "    \"Lung cancer is often diagnosed at a late stage, making treatment difficult.\",\n",
    "    \"Migraine is a common neurological disorder with significant impact on quality of life.\",\n",
    "    \"Crohn's disease can lead to inflammation throughout the gastrointestinal tract.\",\n",
    "    \"Patients with psoriasis reported improvement after using the new biologic agent.\",\n",
    "    \"Parkinson's disease is associated with tremors and motor dysfunction.\",\n",
    "    \"Asthma exacerbations were reduced with inhaled corticosteroids.\",\n",
    "    \"HIV remains a major global health issue, particularly in low-income countries.\",\n",
    "    \"Chronic kidney disease requires early diagnosis and dietary modifications.\",\n",
    "    \"Myocardial infarction is commonly known as a heart attack.\",\n",
    "    \"Rheumatoid arthritis is an autoimmune disease that affects joints.\",\n",
    "    \"Schizophrenia is characterized by hallucinations, delusions, and cognitive dysfunction.\",\n",
    "    \"Alzheimer's disease leads to progressive memory loss in elderly patients.\",\n",
    "    \"Patients with hepatitis B are at increased risk for liver cirrhosis.\",\n",
    "    \"Eczema flares can be triggered by allergens and environmental factors.\",\n",
    "    \"Dengue fever is transmitted by mosquitoes in tropical regions.\",\n",
    "]"
   ]
  },
  {
   "cell_type": "code",
   "execution_count": 5,
   "metadata": {
    "colab": {
     "base_uri": "https://localhost:8080/"
    },
    "executionInfo": {
     "elapsed": 16,
     "status": "ok",
     "timestamp": 1753902383900,
     "user": {
      "displayName": "Sakshi sharma",
      "userId": "15287343271339922023"
     },
     "user_tz": -330
    },
    "id": "bV2Y0F26Z2Ad",
    "outputId": "eb1f1dde-cac0-4386-bd91-5e771db5dc14"
   },
   "outputs": [
    {
     "name": "stdout",
     "output_type": "stream",
     "text": [
      "Text: This study explores treatment options for diabetes in adults.\n",
      "Disease: diabetes\n",
      "Therapeutic Area: Endocrinology\n",
      "\n",
      "Text: Breast cancer patients were given a new monoclonal antibody.\n",
      "Disease: breast cancer\n",
      "Therapeutic Area: Oncology\n",
      "\n",
      "Text: Epilepsy is a chronic condition affecting the brain.\n",
      "Disease: epilepsy\n",
      "Therapeutic Area: Neurology\n",
      "\n",
      "Text: The prevalence of hypertension has increased among the elderly.\n",
      "Disease: hypertension\n",
      "Therapeutic Area: Cardiology\n",
      "\n",
      "Text: COVID-19 vaccines showed high efficacy in preventing severe infection.\n",
      "Disease: covid-19\n",
      "Therapeutic Area: Infectious Disease\n",
      "\n",
      "Text: Lung cancer is often diagnosed at a late stage, making treatment difficult.\n",
      "Disease: lung cancer\n",
      "Therapeutic Area: Oncology\n",
      "\n",
      "Text: Migraine is a common neurological disorder with significant impact on quality of life.\n",
      "Disease: migraine\n",
      "Therapeutic Area: Neurology\n",
      "\n",
      "Text: Crohn's disease can lead to inflammation throughout the gastrointestinal tract.\n",
      "Disease: crohn's disease\n",
      "Therapeutic Area: Gastroenterology\n",
      "\n",
      "Text: Patients with psoriasis reported improvement after using the new biologic agent.\n",
      "Disease: psoriasis\n",
      "Therapeutic Area: Dermatology\n",
      "\n",
      "Text: Parkinson's disease is associated with tremors and motor dysfunction.\n",
      "Disease: parkinson's disease\n",
      "Therapeutic Area: Neurology\n",
      "\n",
      "Text: Asthma exacerbations were reduced with inhaled corticosteroids.\n",
      "Disease: asthma\n",
      "Therapeutic Area: Pulmonology\n",
      "\n",
      "Text: HIV remains a major global health issue, particularly in low-income countries.\n",
      "Disease: hiv\n",
      "Therapeutic Area: Infectious Disease\n",
      "\n",
      "Text: Chronic kidney disease requires early diagnosis and dietary modifications.\n",
      "Disease: chronic kidney disease\n",
      "Therapeutic Area: Nephrology\n",
      "\n",
      "Text: Myocardial infarction is commonly known as a heart attack.\n",
      "Disease: myocardial infarction\n",
      "Therapeutic Area: Cardiology\n",
      "\n",
      "Text: Rheumatoid arthritis is an autoimmune disease that affects joints.\n",
      "Disease: rheumatoid arthritis\n",
      "Therapeutic Area: Rheumatology\n",
      "\n",
      "Text: Schizophrenia is characterized by hallucinations, delusions, and cognitive dysfunction.\n",
      "Disease: schizophrenia\n",
      "Therapeutic Area: Psychiatry\n",
      "\n",
      "Text: Alzheimer's disease leads to progressive memory loss in elderly patients.\n",
      "Disease: alzheimer's disease\n",
      "Therapeutic Area: Neurology\n",
      "\n",
      "Text: Patients with hepatitis B are at increased risk for liver cirrhosis.\n",
      "Disease: hepatitis b\n",
      "Therapeutic Area: Gastroenterology\n",
      "\n",
      "Text: Eczema flares can be triggered by allergens and environmental factors.\n",
      "Disease: eczema\n",
      "Therapeutic Area: Dermatology\n",
      "\n",
      "Text: Dengue fever is transmitted by mosquitoes in tropical regions.\n",
      "Disease: dengue\n",
      "Therapeutic Area: Infectious Disease\n",
      "\n"
     ]
    }
   ],
   "source": [
    "#Tagging Logic\n",
    "results = []\n",
    "for text in sentences:\n",
    "    tagged = False\n",
    "    for disease in disease_area_map:\n",
    "        if disease in text.lower():\n",
    "            print(f\"Text: {text}\")\n",
    "            print(f\"Disease: {disease}\")\n",
    "            print(f\"Therapeutic Area: {disease_area_map[disease]}\\n\")\n",
    "            tagged = True\n",
    "            break\n",
    "    if not tagged:\n",
    "        print(f\"Text: {text}\")\n",
    "        print(\"Disease: Not found\\n\")"
   ]
  },
  {
   "cell_type": "code",
   "execution_count": 6,
   "metadata": {
    "colab": {
     "base_uri": "https://localhost:8080/",
     "height": 89
    },
    "executionInfo": {
     "elapsed": 16,
     "status": "ok",
     "timestamp": 1753902387590,
     "user": {
      "displayName": "Sakshi sharma",
      "userId": "15287343271339922023"
     },
     "user_tz": -330
    },
    "id": "AWcb2TQCaHLK",
    "outputId": "ee6cd7cf-1cf6-41eb-f65a-6c404abd6cb6"
   },
   "outputs": [
    {
     "data": {
      "text/html": [
       "<div>\n",
       "<style scoped>\n",
       "    .dataframe tbody tr th:only-of-type {\n",
       "        vertical-align: middle;\n",
       "    }\n",
       "\n",
       "    .dataframe tbody tr th {\n",
       "        vertical-align: top;\n",
       "    }\n",
       "\n",
       "    .dataframe thead th {\n",
       "        text-align: right;\n",
       "    }\n",
       "</style>\n",
       "<table border=\"1\" class=\"dataframe\">\n",
       "  <thead>\n",
       "    <tr style=\"text-align: right;\">\n",
       "      <th></th>\n",
       "    </tr>\n",
       "  </thead>\n",
       "  <tbody>\n",
       "  </tbody>\n",
       "</table>\n",
       "</div>"
      ],
      "text/plain": [
       "Empty DataFrame\n",
       "Columns: []\n",
       "Index: []"
      ]
     },
     "execution_count": 6,
     "metadata": {},
     "output_type": "execute_result"
    }
   ],
   "source": [
    "import pandas as pd\n",
    "df = pd.DataFrame(results)\n",
    "df"
   ]
  },
  {
   "cell_type": "code",
   "execution_count": 8,
   "metadata": {
    "colab": {
     "base_uri": "https://localhost:8080/",
     "height": 74
    },
    "executionInfo": {
     "elapsed": 10815,
     "status": "ok",
     "timestamp": 1753902401843,
     "user": {
      "displayName": "Sakshi sharma",
      "userId": "15287343271339922023"
     },
     "user_tz": -330
    },
    "id": "an16tP9ucXhy",
    "outputId": "3fb4faec-7c3d-4b86-d19a-1c55664a67aa"
   },
   "outputs": [
    {
     "name": "stderr",
     "output_type": "stream",
     "text": [
      "2025-07-31 12:49:17.565 WARNING streamlit.runtime.scriptrunner_utils.script_run_context: Thread 'MainThread': missing ScriptRunContext! This warning can be ignored when running in bare mode.\n",
      "2025-07-31 12:49:17.566 WARNING streamlit.runtime.scriptrunner_utils.script_run_context: Thread 'MainThread': missing ScriptRunContext! This warning can be ignored when running in bare mode.\n",
      "2025-07-31 12:49:17.566 WARNING streamlit.runtime.scriptrunner_utils.script_run_context: Thread 'MainThread': missing ScriptRunContext! This warning can be ignored when running in bare mode.\n",
      "2025-07-31 12:49:17.568 Thread 'MainThread': missing ScriptRunContext! This warning can be ignored when running in bare mode.\n",
      "2025-07-31 12:49:17.593 \n",
      "  \u001b[33m\u001b[1mWarning:\u001b[0m to view this Streamlit app on a browser, run it with the following\n",
      "  command:\n",
      "\n",
      "    streamlit run /Users/sakshisharma/Desktop/NLP/.venv/lib/python3.13/site-packages/ipykernel_launcher.py [ARGUMENTS]\n",
      "2025-07-31 12:49:17.593 Thread 'MainThread': missing ScriptRunContext! This warning can be ignored when running in bare mode.\n",
      "2025-07-31 12:49:17.593 Thread 'MainThread': missing ScriptRunContext! This warning can be ignored when running in bare mode.\n"
     ]
    }
   ],
   "source": [
    "import streamlit as st\n",
    "\n",
    "uploaded_file = st.file_uploader(\"Upload a file\", type=[\"txt\", \"csv\", \"json\"])"
   ]
  },
  {
   "cell_type": "code",
   "execution_count": null,
   "metadata": {
    "colab": {
     "base_uri": "https://localhost:8080/"
    },
    "executionInfo": {
     "elapsed": 110,
     "status": "ok",
     "timestamp": 1753902405319,
     "user": {
      "displayName": "Sakshi sharma",
      "userId": "15287343271339922023"
     },
     "user_tz": -330
    },
    "id": "GgjmkjUye6Pc",
    "outputId": "a04130df-20a8-4ac8-a427-331afafbcf05"
   },
   "outputs": [
    {
     "name": "stdout",
     "output_type": "stream",
     "text": [
      "disease_area_map = {\n",
      "    # Endocrinology\n",
      "    \"diabetes\": \"Endocrinology\",\n",
      "    \"hypothyroidism\": \"Endocrinology\",\n",
      "    \"cushing's syndrome\": \"Endocrinology\",\n",
      "    \"acromegaly\": \"Endocrinology\",\n",
      "\n",
      "    # Oncology\n",
      "    \"breast cancer\": \"Oncology\",\n",
      "    \"lung cancer\": \"Oncology\",\n",
      "    \"prostate cancer\": \"Oncology\",\n",
      "    \"leukemia\": \"Oncology\",\n",
      "    \"lymphoma\": \"Oncology\",\n",
      "    \"glioblastoma\": \"Oncology\",\n",
      "\n",
      "    # Pulmonology\n",
      "    \"asthma\": \"Pulmonology\",\n",
      "    \"chronic obstructive pulmonary disease\": \"Pulmonology\",\n",
      "    \"tuberculosis\": \"Pulmonology\",\n",
      "    \"pulmonary fibrosis\": \"Pulmonology\",\n",
      "\n",
      "    # Neurology\n",
      "    \"epilepsy\": \"Neurology\",\n",
      "    \"alzheimer's disease\": \"Neurology\",\n",
      "    \"parkinson's disease\": \"Neurology\",\n",
      "    \"multiple sclerosis\": \"Neurology\",\n",
      "    \"migraine\": \"Neurology\",\n",
      "\n",
      "    # Cardiology\n",
      "    \"hypertension\": \"Cardiology\",\n",
      "    \"myocardial infarction\": \"Cardiology\",\n",
      "    \"arrhythmia\": \"Cardiology\",\n",
      "    \"congestive heart failure\": \"Cardiology\",\n",
      "    \"stroke\": \"Cardiology\",\n",
      "\n",
      "    # Gastroenterology\n",
      "    \"crohn's disease\": \"Gastroenterology\",\n",
      "    \"ulcerative colitis\": \"Gastroenterology\",\n",
      "    \"hepatitis b\": \"Gastroenterology\",\n",
      "    \"irritable bowel syndrome\": \"Gastroenterology\",\n",
      "\n",
      "    # Infectious Diseases\n",
      "    \"covid-19\": \"Infectious Disease\",\n",
      "    \"malaria\": \"Infectious Disease\",\n",
      "    \"dengue\": \"Infectious Disease\",\n",
      "    \"hiv\": \"Infectious Disease\",\n",
      "\n",
      "    # Dermatology\n",
      "    \"psoriasis\": \"Dermatology\",\n",
      "    \"eczema\": \"Dermatology\",\n",
      "    \"acne\": \"Dermatology\",\n",
      "\n",
      "    # Nephrology\n",
      "    \"chronic kidney disease\": \"Nephrology\",\n",
      "    \"glomerulonephritis\": \"Nephrology\",\n",
      "\n",
      "    # Rheumatology\n",
      "    \"rheumatoid arthritis\": \"Rheumatology\",\n",
      "    \"lupus\": \"Rheumatology\",\n",
      "\n",
      "    # Psychiatry\n",
      "    \"depression\": \"Psychiatry\",\n",
      "    \"schizophrenia\": \"Psychiatry\",\n",
      "    \"anxiety\": \"Psychiatry\",\n",
      "    \"bipolar disorder\": \"Psychiatry\"\n",
      "}"
     ]
    }
   ],
   "source": [
    "cat disease_map.json"
   ]
  },
  {
   "cell_type": "code",
   "execution_count": 34,
   "metadata": {
    "colab": {
     "base_uri": "https://localhost:8080/"
    },
    "executionInfo": {
     "elapsed": 49,
     "status": "ok",
     "timestamp": 1753902409444,
     "user": {
      "displayName": "Sakshi sharma",
      "userId": "15287343271339922023"
     },
     "user_tz": -330
    },
    "id": "8zcXXBkQfOa1",
    "outputId": "3c0905fe-a75f-4567-8e56-719a31234b29"
   },
   "outputs": [
    {
     "name": "stdout",
     "output_type": "stream",
     "text": [
      "'disease_area_map = {\\n    # Endocrinology\\n    \"diabetes\": \"Endocrinology\",\\n    \"hypothyroidism\": \"Endocrinology\",\\n    \"cushing\\'s syndrome\": \"Endocrinology\",\\n    \"acromegaly\": \"Endocrinology\",\\n\\n    # Oncology\\n    \"breast cancer\": \"Oncology\",\\n    \"lung cancer\": \"Oncology\",\\n    \"prostate cancer\": \"Oncology\",\\n    \"leukemia\": \"Oncology\",\\n    \"lymphoma\": \"Oncology\",\\n    \"glioblastoma\": \"Oncology\",\\n\\n    # Pulmonology\\n    \"asthma\": \"Pulmonology\",\\n    \"chronic obstructive pulmonary disease\": \"Pulmonology\",\\n    \"tuberculosis\": \"Pulmonology\",\\n    \"pulmonary fibrosis\": \"Pulmonology\",\\n\\n    # Neurology\\n    \"epilepsy\": \"Neurology\",\\n    \"alzheimer\\'s disease\": \"Neurology\",\\n    \"parkinson\\'s disease\": \"Neurology\",\\n    \"multiple sclerosis\": \"Neurology\",\\n    \"migraine\": \"Neurology\",\\n\\n    # Cardiology\\n    \"hypertension\": \"Cardiology\",\\n    \"myocardial infarction\": \"Cardiology\",\\n    \"arrhythmia\": \"Cardiology\",\\n    \"congestive heart failure\": \"Cardiology\",\\n    \"stroke\": \"Cardiology\",\\n\\n    # Gastroenterology\\n    \"crohn\\'s disease\": \"Gastroenterology\",\\n    \"ulcerative colitis\": \"Gastroenterology\",\\n    \"hepatitis b\": \"Gastroenterology\",\\n    \"irritable bowel syndrome\": \"Gastroenterology\",\\n\\n    # Infectious Diseases\\n    \"covid-19\": \"Infectious Disease\",\\n    \"malaria\": \"Infectious Disease\",\\n    \"dengue\": \"Infectious Disease\",\\n    \"hiv\": \"Infectious Disease\",\\n\\n    # Dermatology\\n    \"psoriasis\": \"Dermatology\",\\n    \"eczema\": \"Dermatology\",\\n    \"acne\": \"Dermatology\",\\n\\n    # Nephrology\\n    \"chronic kidney disease\": \"Nephrology\",\\n    \"glomerulonephritis\": \"Nephrology\",\\n\\n    # Rheumatology\\n    \"rheumatoid arthritis\": \"Rheumatology\",\\n    \"lupus\": \"Rheumatology\",\\n\\n    # Psychiatry\\n    \"depression\": \"Psychiatry\",\\n    \"schizophrenia\": \"Psychiatry\",\\n    \"anxiety\": \"Psychiatry\",\\n    \"bipolar disorder\": \"Psychiatry\"\\n}'\n"
     ]
    }
   ],
   "source": [
    "with open(\"disease_map.json\", \"r\") as f:\n",
    "    content = f.read()\n",
    "    print(repr(content))  # shows special characters and format issues"
   ]
  },
  {
   "cell_type": "code",
   "execution_count": 35,
   "metadata": {
    "colab": {
     "base_uri": "https://localhost:8080/"
    },
    "executionInfo": {
     "elapsed": 703,
     "status": "ok",
     "timestamp": 1753902411717,
     "user": {
      "displayName": "Sakshi sharma",
      "userId": "15287343271339922023"
     },
     "user_tz": -330
    },
    "id": "9oEkPWRMftyr",
    "outputId": "132dbc07-a049-4991-ea47-a0cfd860c660"
   },
   "outputs": [
    {
     "name": "stdout",
     "output_type": "stream",
     "text": [
      "Named Entities:\n"
     ]
    }
   ],
   "source": [
    "import spacy\n",
    "nlp = spacy.load(\"en_core_web_sm\")\n",
    "\n",
    "text = \"The patient was diagnosed with diabetes and hypertension. Prescribed metformin and lisinopril.\"\n",
    "doc = nlp(text)\n",
    "\n",
    "print(\"Named Entities:\")\n",
    "for ent in doc.ents:\n",
    "    print(f\"{ent.text} ({ent.label_})\")\n"
   ]
  },
  {
   "cell_type": "code",
   "execution_count": 36,
   "metadata": {
    "colab": {
     "base_uri": "https://localhost:8080/"
    },
    "executionInfo": {
     "elapsed": 9,
     "status": "ok",
     "timestamp": 1753902414536,
     "user": {
      "displayName": "Sakshi sharma",
      "userId": "15287343271339922023"
     },
     "user_tz": -330
    },
    "id": "XYmHOpPbgXDv",
    "outputId": "f589191b-457a-4cad-9441-298f67163b5d"
   },
   "outputs": [
    {
     "name": "stdout",
     "output_type": "stream",
     "text": [
      "Closest Matches: [\"crohn's disease\", \"parkinson's disease\", \"alzheimer's disease\"]\n",
      "Therapeutic Area: Gastroenterology\n"
     ]
    }
   ],
   "source": [
    "from difflib import get_close_matches\n",
    "\n",
    "query = \"sugar disease\"\n",
    "matches = get_close_matches(query.lower(), disease_area_map.keys(), n=3, cutoff=0.4)\n",
    "\n",
    "print(\"Closest Matches:\", matches)\n",
    "if matches:\n",
    "    print(\"Therapeutic Area:\", disease_area_map[matches[0]])"
   ]
  },
  {
   "cell_type": "code",
   "execution_count": 37,
   "metadata": {
    "colab": {
     "base_uri": "https://localhost:8080/"
    },
    "executionInfo": {
     "elapsed": 8089,
     "status": "ok",
     "timestamp": 1753902425213,
     "user": {
      "displayName": "Sakshi sharma",
      "userId": "15287343271339922023"
     },
     "user_tz": -330
    },
    "id": "ph1LYywtgdUH",
    "outputId": "244e4f30-02cf-4550-9f80-9bb167e0606a"
   },
   "outputs": [
    {
     "name": "stdout",
     "output_type": "stream",
     "text": [
      "Requirement already satisfied: Bio in /usr/local/lib/python3.11/dist-packages (1.8.0)\n",
      "Requirement already satisfied: biopython>=1.80 in /usr/local/lib/python3.11/dist-packages (from Bio) (1.85)\n",
      "Requirement already satisfied: gprofiler-official in /usr/local/lib/python3.11/dist-packages (from Bio) (1.0.0)\n",
      "Requirement already satisfied: mygene in /usr/local/lib/python3.11/dist-packages (from Bio) (3.2.2)\n",
      "Requirement already satisfied: pandas in /usr/local/lib/python3.11/dist-packages (from Bio) (2.2.2)\n",
      "Requirement already satisfied: pooch in /usr/local/lib/python3.11/dist-packages (from Bio) (1.8.2)\n",
      "Requirement already satisfied: requests in /usr/local/lib/python3.11/dist-packages (from Bio) (2.32.3)\n",
      "Requirement already satisfied: tqdm in /usr/local/lib/python3.11/dist-packages (from Bio) (4.67.1)\n",
      "Requirement already satisfied: numpy in /usr/local/lib/python3.11/dist-packages (from biopython>=1.80->Bio) (2.0.2)\n",
      "Requirement already satisfied: biothings-client>=0.2.6 in /usr/local/lib/python3.11/dist-packages (from mygene->Bio) (0.4.1)\n",
      "Requirement already satisfied: python-dateutil>=2.8.2 in /usr/local/lib/python3.11/dist-packages (from pandas->Bio) (2.9.0.post0)\n",
      "Requirement already satisfied: pytz>=2020.1 in /usr/local/lib/python3.11/dist-packages (from pandas->Bio) (2025.2)\n",
      "Requirement already satisfied: tzdata>=2022.7 in /usr/local/lib/python3.11/dist-packages (from pandas->Bio) (2025.2)\n",
      "Requirement already satisfied: platformdirs>=2.5.0 in /usr/local/lib/python3.11/dist-packages (from pooch->Bio) (4.3.8)\n",
      "Requirement already satisfied: packaging>=20.0 in /usr/local/lib/python3.11/dist-packages (from pooch->Bio) (25.0)\n",
      "Requirement already satisfied: charset-normalizer<4,>=2 in /usr/local/lib/python3.11/dist-packages (from requests->Bio) (3.4.2)\n",
      "Requirement already satisfied: idna<4,>=2.5 in /usr/local/lib/python3.11/dist-packages (from requests->Bio) (3.10)\n",
      "Requirement already satisfied: urllib3<3,>=1.21.1 in /usr/local/lib/python3.11/dist-packages (from requests->Bio) (2.5.0)\n",
      "Requirement already satisfied: certifi>=2017.4.17 in /usr/local/lib/python3.11/dist-packages (from requests->Bio) (2025.7.14)\n",
      "Requirement already satisfied: httpx>=0.22.0 in /usr/local/lib/python3.11/dist-packages (from biothings-client>=0.2.6->mygene->Bio) (0.28.1)\n",
      "Requirement already satisfied: six>=1.5 in /usr/local/lib/python3.11/dist-packages (from python-dateutil>=2.8.2->pandas->Bio) (1.17.0)\n",
      "Requirement already satisfied: anyio in /usr/local/lib/python3.11/dist-packages (from httpx>=0.22.0->biothings-client>=0.2.6->mygene->Bio) (4.9.0)\n",
      "Requirement already satisfied: httpcore==1.* in /usr/local/lib/python3.11/dist-packages (from httpx>=0.22.0->biothings-client>=0.2.6->mygene->Bio) (1.0.9)\n",
      "Requirement already satisfied: h11>=0.16 in /usr/local/lib/python3.11/dist-packages (from httpcore==1.*->httpx>=0.22.0->biothings-client>=0.2.6->mygene->Bio) (0.16.0)\n",
      "Requirement already satisfied: sniffio>=1.1 in /usr/local/lib/python3.11/dist-packages (from anyio->httpx>=0.22.0->biothings-client>=0.2.6->mygene->Bio) (1.3.1)\n",
      "Requirement already satisfied: typing_extensions>=4.5 in /usr/local/lib/python3.11/dist-packages (from anyio->httpx>=0.22.0->biothings-client>=0.2.6->mygene->Bio) (4.14.1)\n",
      "1. Vet Med Sci. 2025 Sep;11(5):e70543. doi: 10.1002/vms3.70543.\n",
      "\n",
      "Second-Degree Atrioventricular Block With Steroid-Induced Diabetes Mellitus in a \n",
      "Miniature Poodle.\n",
      "\n",
      "Kim C(1), Lee D(1), Chae Y(1), Yun T(1), Kang BT(1), Kim H(1).\n",
      "\n",
      "Author information:\n",
      "(1)Laboratory of Veterinary Internal Medicine, College of Veterinary Medicine, \n",
      "Chungbuk National University, Cheongju, Chungbuk, Republic of Korea.\n",
      "\n",
      "An 8-year-old castrated male Miniature Poodle was referred due to polyuria, \n",
      "polydipsia and urinary incontinence, following 12 days of prednisolone \n",
      "administration (0.25 mg/kg q12h) for otitis externa. Upon physical examination, \n",
      "an abnormal heart rhythm was detected on cardiac auscultation without any \n",
      "associated clinical signs. Owing to suspected conduction abnormalities, \n",
      "electrocardiography (ECG) was performed, which revealed a Mobitz Type II \n",
      "second-degree atrioventricular (AV) block. Blood analysis revealed \n",
      "hyperglycaemia (> 500 mg/dL; reference interval [RI] = 65-118 mg/dL), elevated \n",
      "fructosamine (361 µmol/L; RI = 177-314 µmol/L) and β-hydroxybutyric acid \n",
      "concentrations (5.4 mmol/L; RI ≤ 2.5 mmol/L), leading to a diagnosis of diabetic \n",
      "ketosis. To manage the diabetic ketosis, porcine lente insulin (Caninsulin, MSD) \n",
      "was administered at a dose of 0.33 U/kg q12h. Three days after initiating \n",
      "insulin therapy, the clinical signs improved, a stable blood glucose curve with \n",
      "a nadir of 150 mg/dL was observed, and the β-hydroxybutyric acid concentration \n",
      "decreased to 1.4 mmol/L. Follow-up ECG confirmed resolution of the AV block. \n",
      "Subsequently, the diabetes mellitus (DM) was well managed, and the AV block did \n",
      "not recur. A strong association between DM and AV block is reported in humans. \n",
      "However, studies investigating the relationship between DM and AV block in \n",
      "veterinary medicine are limited. This case report describes the potential for \n",
      "acute-onset DM to induce cardiac conduction disturbances in dogs.\n",
      "\n",
      "© 2025 The Author(s). Veterinary Medicine and Science published by John Wiley & \n",
      "Sons Ltd.\n",
      "\n",
      "DOI: 10.1002/vms3.70543\n",
      "PMID: 40736923\n",
      "\n",
      "\n",
      "2. Ophthalmol Ther. 2025 Jul 30. doi: 10.1007/s40123-025-01210-2. Online ahead of\n",
      " print.\n",
      "\n",
      "One-Month Changes in Choroidal Vascularity Index of Medium Vessel Layer in \n",
      "Children with Myopia Wearing Orthokeratology Lenses: a Predictor for One-Year \n",
      "Changes in Axial Length.\n",
      "\n",
      "Li J(1), Rong B(1), Zhu L(2)(3), Zhu R(1), Rong X(1), Wang Y(1), Zhang Y(1), Gu \n",
      "X(1), Zeng S(2)(3), Lu Y(2), Yang L(4).\n",
      "\n",
      "Author information:\n",
      "(1)Department of Ophthalmology, Peking University First Hospital, No. 8 Xi Shi \n",
      "Ku Street, Xicheng District, Beijing, 100034, China.\n",
      "(2)Institute of Medical Technology, Peking University Health Science Center, \n",
      "Peking University, No. 38 Xueyuan Road, Haidian District, Beijing, 100191, \n",
      "China.\n",
      "(3)Department of Biomedical Engineering, College of Future Technology, Peking \n",
      "University, No.5 Yiheyuan Road, Haidian District, Beijing, 100871, China.\n",
      "(4)Department of Ophthalmology, Peking University First Hospital, No. 8 Xi Shi \n",
      "Ku Street, Xicheng District, Beijing, 100034, China. liu_yang@bjmu.edu.cn.\n",
      "\n",
      "INTRODUCTION: Orthokeratology (ortho-K) is an established intervention for \n",
      "myopia control in children, yet the vascular mechanisms within the choroidal \n",
      "sublayers underlying its efficacy remain unclear. This study aims to investigate \n",
      "the changes in the choroidal vascularity index (CVI) of choroid sublayers after \n",
      "ortho-K treatment, the association between 1-month CVI changes and 1-year axial \n",
      "length (AL) elongation, and the role of CVI responses in predicting the 1-year \n",
      "control efficacy of ortho-K treatment.\n",
      "METHODS: A prospective cohort study was conducted, enrolling 257 children with \n",
      "myopia aged 7-16 years. The subjects wore ortho-K lenses continuously for \n",
      "12 months. Choroidal volume, vascular volume (CVV), stromal volume (CSV), and \n",
      "CVI of the choroid sublayers were assessed using optical coherence tomography \n",
      "images at baseline and 1-month follow-up. The total choroidal layer (TCL) \n",
      "includes the large-vessel choroidal layer (LVCL) and the medium-vessel choroidal \n",
      "layer (MVCL). The Early Treatment of Diabetic Retinopathy Study (ETDRS) grid \n",
      "divides the macular area into nine subfields for detailed analysis.\n",
      "RESULTS: The 1-month CVI of TCL and MVCL in all ETDRS grid regions were \n",
      "significantly lower than the baseline CVI (P ≤ 0.036), except for the superior \n",
      "outer ring subfield in TCL (P = 0.070). After the 1-month ortho-K treatment, \n",
      "both choroidal volume and CSV significantly increased in all choroidal sublayers \n",
      "compared with baseline data (P ≤ 0.027), while CVV also showed significant \n",
      "increases in half of the ETDRS grid regions (14/27). After adjusting for age and \n",
      "gender, the baseline CVI of temporal inner ring subfield in TCL (β = 0.146, \n",
      "P = 0.006), and 1-month CVI changes of the temporal outer ring subfield \n",
      "(β = 0.337, P < 0.001) and nasal inner ring subfield (β = 0.174, P = 0.002) in \n",
      "MVCL, were independently associated with 1-year AL elongation during ortho-K \n",
      "treatment. On the basis of the 1-month CVI changes of temporal outer ring \n",
      "subfield and nasal inner ring subfield in MVCL, as well as age and sex, the \n",
      "prediction model demonstrated an area under the curve (AUC) of 0.905 (95% CI \n",
      "0.870-0.941) for distinguishing children with myopia who exhibited slow versus \n",
      "fast AL elongation.\n",
      "CONCLUSIONS: After the 1-month ortho-K treatment, choroidal volume, CVV, and \n",
      "CSV, of all choroidal sublayers significantly increased, while CVI of TCL and \n",
      "MVCL significantly decreased. The CVI in LVCL showed no significant changes. The \n",
      "differences in short-term CVI changes among choroidal sublayers indicate \n",
      "disproportionate changes in CVV and CSV, which help to explore the possible \n",
      "choroidal mechanisms of myopia control with ortho-K treatment. Early CVI changes \n",
      "in MVCL possess potential clinical significance for predicting long-term AL \n",
      "elongation.\n",
      "\n",
      "© 2025. The Author(s).\n",
      "\n",
      "DOI: 10.1007/s40123-025-01210-2\n",
      "PMID: 40736868\n",
      "\n",
      "Conflict of interest statement: Declarations. Conflict of Interest: Junmeng Li, \n",
      "Bei Rong, Lei Zhu, Ruilin Zhu, Xin Rong, Yuwei Wang, Yadi Zhang, Xiaopeng Gu, \n",
      "Shuang Zeng, Yanye Lu, and Liu Yang have nothing to disclose. Ethical Approval: \n",
      "This study was conducted in accordance with the principles of the Declaration of \n",
      "Helsinki and received approval from the Ethics Committee of Peking University \n",
      "First Hospital Ethics Committee (approval no.: 2022-KY-190-001). Informed \n",
      "consent was obtained from all participants for the use of their data in this \n",
      "research.\n",
      "\n",
      "\n",
      "3. J Nephrol. 2025 Jul 30. doi: 10.1007/s40620-025-02364-9. Online ahead of\n",
      "print.\n",
      "\n",
      "Type 2 diabetes mellitus modifies the relationship between coronary artery \n",
      "calcification and adverse kidney outcome in patients with chronic kidney \n",
      "disease: the findings from KNOW-CKD.\n",
      "\n",
      "Yun HR(1), Joo YS(1), Kim HW(2), Park JT(2), Son NH(3), Yoo TH(2), Kang \n",
      "SW(2)(4), Kim Y(5), Kim SW(6), Kim YH(7), Oh KH(8), Han SH(9); KoreaN Cohort \n",
      "Study for Outcomes in Patients With Chronic Kidney Disease (KNOW-CKD) \n",
      "investigators.\n",
      "\n",
      "Author information:\n",
      "(1)Department of Internal Medicine, Yongin Severance Hospital, Yonsei University \n",
      "College of Medicine, Gyeonggi-do, Republic of Korea.\n",
      "(2)Department of Internal Medicine, Institute of Kidney Disease Research, Yonsei \n",
      "University College of Medicine, Seoul, Republic of Korea.\n",
      "(3)Department of Statistics, Keimyung University, Daegu, South Korea.\n",
      "(4)Department of Internal Medicine, College of Medicine, Severance Biomedical \n",
      "Science Institute, Brain Korea 21 PLUS, Yonsei University, Seoul, Republic of \n",
      "Korea.\n",
      "(5)Department of Internal Medicine, College of Medicine, Catholic University of \n",
      "Korea, Seoul, Korea.\n",
      "(6)Department of Internal Medicine, Chonnam National University Medical School, \n",
      "Gwangju, Korea.\n",
      "(7)Department of Internal Medicine, Inje University, Pusan Paik Hospital, Busan, \n",
      "Republic of Korea.\n",
      "(8)Medical Research Collaborating Center, Seoul National University Hospital and \n",
      "Seoul National University College of Medicine, Seoul, Republic of Korea.\n",
      "(9)Department of Internal Medicine, Institute of Kidney Disease Research, Yonsei \n",
      "University College of Medicine, Seoul, Republic of Korea. hansh@yuhs.ac.\n",
      "\n",
      "BACKGROUND: Kidney function declines faster in patients with type 2 diabetes \n",
      "mellitus (T2DM) than in those without, and coronary artery calcification is a \n",
      "risk factor for adverse kidney outcomes. Thus, we examined whether T2DM modified \n",
      "the relationship between coronary artery calcification and chronic kidney \n",
      "disease (CKD) progression.\n",
      "METHODS: Among 2067 participants from the KoreaN Cohort Study for Outcome in \n",
      "Patients With CKD, the main exposures analyzed were T2DM and coronary artery \n",
      "calcification. The primary outcome was CKD progression, which was a composite \n",
      "of > 50% decline in estimated glomerular filtration rate (eGFR) or kidney \n",
      "failure requiring kidney replacement therapy. A multivariable cause-specific \n",
      "hazard model was used to determine the association between the main exposures \n",
      "and the primary outcome.\n",
      "RESULTS: During 8633 person-years of follow-up, the primary outcome occurred in \n",
      "565 (27.3%) participants. After adjusting for confounding factors, T2DM and \n",
      "coronary artery calcification score > 0 were associated with 2.03- and 1.51-fold \n",
      "increased risks of CKD progression, respectively. T2DM and coronary artery \n",
      "calcification showed a significant interaction in terms of the primary outcome. \n",
      "In patients with T2DM, coronary artery calcification score > 0 was associated \n",
      "with a significantly higher risk of CKD progression compared with coronary \n",
      "artery calcification score = 0. However, the significant association of coronary \n",
      "artery calcification score > 0 versus coronary artery calcification score = 0 \n",
      "was lost in patients without T2DM. The slope of eGFR decline was steeper in \n",
      "patients with T2DM and coronary artery calcification score > 0 than in those \n",
      "with T2DM or coronary artery calcification score > 0 alone.\n",
      "CONCLUSIONS: Coronary artery calcification is more strongly associated with the \n",
      "risk of CKD progression in patients with T2DM than in those without. Therefore, \n",
      "the clinical implications of coronary artery calcification vary depending on the \n",
      "presence of T2DM.\n",
      "\n",
      "© 2025. The Author(s) under exclusive licence to Italian Society of Nephrology.\n",
      "\n",
      "DOI: 10.1007/s40620-025-02364-9\n",
      "PMID: 40736786\n",
      "\n",
      "Conflict of interest statement: Declarations. Conflict of interest: The authors \n",
      "declare that they have no known competing financial interests or personal \n",
      "relationships that could have appeared to influence the work reported in this \n",
      "paper. Ethical approval: The study was conducted in accordance with the \n",
      "Declaration of Helsinki and approved by the institutional review board (IRB) of \n",
      "each participating clinical center as follows: Seoul National University \n",
      "Hospital (1104-089-359), Seoul National University Bundang Hospital \n",
      "(B-1106/129-008), Yonsei University Severance Hospital (4-2011-0163), Kangbuk \n",
      "Samsung Medical Center (2011-01-076), Seoul St. Mary’s Hospital (KC11OIMI0441), \n",
      "Gil Hospital (GIRBA2553), Eulji General Hospital (201105-01), Chonnam National \n",
      "University Hospital (CNUH-2011-092), and Pusan Paik Hospital (11-091). Human and \n",
      "animal rights: All procedures performed in studies involving human participants \n",
      "were in accordance with the ethical standards of the institutional and/or \n",
      "national research committee and with the 1964 Helsinki declaration and its later \n",
      "amendments or comparable ethical standards. Informed consent: Informed consent \n",
      "was obtained from all participants included in the study.\n"
     ]
    }
   ],
   "source": [
    "!pip install Bio\n",
    "import Bio\n",
    "from Bio import Entrez\n",
    "Entrez.email = \"your_email@example.com\"\n",
    "\n",
    "def fetch_pubmed_abstracts(query, max_results=3):\n",
    "    handle = Entrez.esearch(db=\"pubmed\", term=query, retmax=max_results)\n",
    "    record = Entrez.read(handle)\n",
    "    ids = \",\".join(record[\"IdList\"])\n",
    "\n",
    "    fetch = Entrez.efetch(db=\"pubmed\", id=ids, rettype=\"abstract\", retmode=\"text\")\n",
    "    print(fetch.read())\n",
    "\n",
    "fetch_pubmed_abstracts(\"diabetes treatment\")"
   ]
  },
  {
   "cell_type": "code",
   "execution_count": 38,
   "metadata": {
    "colab": {
     "base_uri": "https://localhost:8080/"
    },
    "executionInfo": {
     "elapsed": 13640,
     "status": "ok",
     "timestamp": 1753902438854,
     "user": {
      "displayName": "Sakshi sharma",
      "userId": "15287343271339922023"
     },
     "user_tz": -330
    },
    "id": "JO_mBEbLjvnk",
    "outputId": "9710b841-204c-4cae-f7e3-5f2b029f6e2b"
   },
   "outputs": [
    {
     "name": "stdout",
     "output_type": "stream",
     "text": [
      "Requirement already satisfied: streamlit in /usr/local/lib/python3.11/dist-packages (1.47.1)\n",
      "Requirement already satisfied: altair<6,>=4.0 in /usr/local/lib/python3.11/dist-packages (from streamlit) (5.5.0)\n",
      "Requirement already satisfied: blinker<2,>=1.5.0 in /usr/local/lib/python3.11/dist-packages (from streamlit) (1.9.0)\n",
      "Requirement already satisfied: cachetools<7,>=4.0 in /usr/local/lib/python3.11/dist-packages (from streamlit) (5.5.2)\n",
      "Requirement already satisfied: click<9,>=7.0 in /usr/local/lib/python3.11/dist-packages (from streamlit) (8.2.1)\n",
      "Requirement already satisfied: numpy<3,>=1.23 in /usr/local/lib/python3.11/dist-packages (from streamlit) (2.0.2)\n",
      "Requirement already satisfied: packaging<26,>=20 in /usr/local/lib/python3.11/dist-packages (from streamlit) (25.0)\n",
      "Requirement already satisfied: pandas<3,>=1.4.0 in /usr/local/lib/python3.11/dist-packages (from streamlit) (2.2.2)\n",
      "Requirement already satisfied: pillow<12,>=7.1.0 in /usr/local/lib/python3.11/dist-packages (from streamlit) (11.3.0)\n",
      "Requirement already satisfied: protobuf<7,>=3.20 in /usr/local/lib/python3.11/dist-packages (from streamlit) (5.29.5)\n",
      "Requirement already satisfied: pyarrow>=7.0 in /usr/local/lib/python3.11/dist-packages (from streamlit) (18.1.0)\n",
      "Requirement already satisfied: requests<3,>=2.27 in /usr/local/lib/python3.11/dist-packages (from streamlit) (2.32.3)\n",
      "Requirement already satisfied: tenacity<10,>=8.1.0 in /usr/local/lib/python3.11/dist-packages (from streamlit) (8.5.0)\n",
      "Requirement already satisfied: toml<2,>=0.10.1 in /usr/local/lib/python3.11/dist-packages (from streamlit) (0.10.2)\n",
      "Requirement already satisfied: typing-extensions<5,>=4.4.0 in /usr/local/lib/python3.11/dist-packages (from streamlit) (4.14.1)\n",
      "Requirement already satisfied: watchdog<7,>=2.1.5 in /usr/local/lib/python3.11/dist-packages (from streamlit) (6.0.0)\n",
      "Requirement already satisfied: gitpython!=3.1.19,<4,>=3.0.7 in /usr/local/lib/python3.11/dist-packages (from streamlit) (3.1.45)\n",
      "Requirement already satisfied: pydeck<1,>=0.8.0b4 in /usr/local/lib/python3.11/dist-packages (from streamlit) (0.9.1)\n",
      "Requirement already satisfied: tornado!=6.5.0,<7,>=6.0.3 in /usr/local/lib/python3.11/dist-packages (from streamlit) (6.4.2)\n",
      "Requirement already satisfied: jinja2 in /usr/local/lib/python3.11/dist-packages (from altair<6,>=4.0->streamlit) (3.1.6)\n",
      "Requirement already satisfied: jsonschema>=3.0 in /usr/local/lib/python3.11/dist-packages (from altair<6,>=4.0->streamlit) (4.25.0)\n",
      "Requirement already satisfied: narwhals>=1.14.2 in /usr/local/lib/python3.11/dist-packages (from altair<6,>=4.0->streamlit) (1.48.1)\n",
      "Requirement already satisfied: gitdb<5,>=4.0.1 in /usr/local/lib/python3.11/dist-packages (from gitpython!=3.1.19,<4,>=3.0.7->streamlit) (4.0.12)\n",
      "Requirement already satisfied: python-dateutil>=2.8.2 in /usr/local/lib/python3.11/dist-packages (from pandas<3,>=1.4.0->streamlit) (2.9.0.post0)\n",
      "Requirement already satisfied: pytz>=2020.1 in /usr/local/lib/python3.11/dist-packages (from pandas<3,>=1.4.0->streamlit) (2025.2)\n",
      "Requirement already satisfied: tzdata>=2022.7 in /usr/local/lib/python3.11/dist-packages (from pandas<3,>=1.4.0->streamlit) (2025.2)\n",
      "Requirement already satisfied: charset-normalizer<4,>=2 in /usr/local/lib/python3.11/dist-packages (from requests<3,>=2.27->streamlit) (3.4.2)\n",
      "Requirement already satisfied: idna<4,>=2.5 in /usr/local/lib/python3.11/dist-packages (from requests<3,>=2.27->streamlit) (3.10)\n",
      "Requirement already satisfied: urllib3<3,>=1.21.1 in /usr/local/lib/python3.11/dist-packages (from requests<3,>=2.27->streamlit) (2.5.0)\n",
      "Requirement already satisfied: certifi>=2017.4.17 in /usr/local/lib/python3.11/dist-packages (from requests<3,>=2.27->streamlit) (2025.7.14)\n",
      "Requirement already satisfied: smmap<6,>=3.0.1 in /usr/local/lib/python3.11/dist-packages (from gitdb<5,>=4.0.1->gitpython!=3.1.19,<4,>=3.0.7->streamlit) (5.0.2)\n",
      "Requirement already satisfied: MarkupSafe>=2.0 in /usr/local/lib/python3.11/dist-packages (from jinja2->altair<6,>=4.0->streamlit) (3.0.2)\n",
      "Requirement already satisfied: attrs>=22.2.0 in /usr/local/lib/python3.11/dist-packages (from jsonschema>=3.0->altair<6,>=4.0->streamlit) (25.3.0)\n",
      "Requirement already satisfied: jsonschema-specifications>=2023.03.6 in /usr/local/lib/python3.11/dist-packages (from jsonschema>=3.0->altair<6,>=4.0->streamlit) (2025.4.1)\n",
      "Requirement already satisfied: referencing>=0.28.4 in /usr/local/lib/python3.11/dist-packages (from jsonschema>=3.0->altair<6,>=4.0->streamlit) (0.36.2)\n",
      "Requirement already satisfied: rpds-py>=0.7.1 in /usr/local/lib/python3.11/dist-packages (from jsonschema>=3.0->altair<6,>=4.0->streamlit) (0.26.0)\n",
      "Requirement already satisfied: six>=1.5 in /usr/local/lib/python3.11/dist-packages (from python-dateutil>=2.8.2->pandas<3,>=1.4.0->streamlit) (1.17.0)\n"
     ]
    },
    {
     "name": "stderr",
     "output_type": "stream",
     "text": [
      "2025-07-30 19:07:18.742 Thread 'MainThread': missing ScriptRunContext! This warning can be ignored when running in bare mode.\n",
      "2025-07-30 19:07:18.746 Thread 'MainThread': missing ScriptRunContext! This warning can be ignored when running in bare mode.\n",
      "2025-07-30 19:07:18.749 Thread 'MainThread': missing ScriptRunContext! This warning can be ignored when running in bare mode.\n",
      "2025-07-30 19:07:18.751 Thread 'MainThread': missing ScriptRunContext! This warning can be ignored when running in bare mode.\n",
      "2025-07-30 19:07:18.753 Thread 'MainThread': missing ScriptRunContext! This warning can be ignored when running in bare mode.\n",
      "2025-07-30 19:07:18.755 Thread 'MainThread': missing ScriptRunContext! This warning can be ignored when running in bare mode.\n",
      "2025-07-30 19:07:18.757 Thread 'MainThread': missing ScriptRunContext! This warning can be ignored when running in bare mode.\n",
      "2025-07-30 19:07:18.759 Thread 'MainThread': missing ScriptRunContext! This warning can be ignored when running in bare mode.\n",
      "2025-07-30 19:07:18.761 Thread 'MainThread': missing ScriptRunContext! This warning can be ignored when running in bare mode.\n",
      "2025-07-30 19:07:18.774 Thread 'MainThread': missing ScriptRunContext! This warning can be ignored when running in bare mode.\n"
     ]
    },
    {
     "name": "stdout",
     "output_type": "stream",
     "text": [
      "'disease_area_map = {\\n    # Endocrinology\\n    \"diabetes\": \"Endocrinology\",\\n    \"hypothyroidism\": \"Endocrinology\",\\n    \"cushing\\'s syndrome\": \"Endocrinology\",\\n    \"acromegaly\": \"Endocrinology\",\\n\\n    # Oncology\\n    \"breast cancer\": \"Oncology\",\\n    \"lung cancer\": \"Oncology\",\\n    \"prostate cancer\": \"Oncology\",\\n    \"leukemia\": \"Oncology\",\\n    \"lymphoma\": \"Oncology\",\\n    \"glioblastoma\": \"Oncology\",\\n\\n    # Pulmonology\\n    \"asthma\": \"Pulmonology\",\\n    \"chronic obstructive pulmonary disease\": \"Pulmonology\",\\n    \"tuberculosis\": \"Pulmonology\",\\n    \"pulmonary fibrosis\": \"Pulmonology\",\\n\\n    # Neurology\\n    \"epilepsy\": \"Neurology\",\\n    \"alzheimer\\'s disease\": \"Neurology\",\\n    \"parkinson\\'s disease\": \"Neurology\",\\n    \"multiple sclerosis\": \"Neurology\",\\n    \"migraine\": \"Neurology\",\\n\\n    # Cardiology\\n    \"hypertension\": \"Cardiology\",\\n    \"myocardial infarction\": \"Cardiology\",\\n    \"arrhythmia\": \"Cardiology\",\\n    \"congestive heart failure\": \"Cardiology\",\\n    \"stroke\": \"Cardiology\",\\n\\n    # Gastroenterology\\n    \"crohn\\'s disease\": \"Gastroenterology\",\\n    \"ulcerative colitis\": \"Gastroenterology\",\\n    \"hepatitis b\": \"Gastroenterology\",\\n    \"irritable bowel syndrome\": \"Gastroenterology\",\\n\\n    # Infectious Diseases\\n    \"covid-19\": \"Infectious Disease\",\\n    \"malaria\": \"Infectious Disease\",\\n    \"dengue\": \"Infectious Disease\",\\n    \"hiv\": \"Infectious Disease\",\\n\\n    # Dermatology\\n    \"psoriasis\": \"Dermatology\",\\n    \"eczema\": \"Dermatology\",\\n    \"acne\": \"Dermatology\",\\n\\n    # Nephrology\\n    \"chronic kidney disease\": \"Nephrology\",\\n    \"glomerulonephritis\": \"Nephrology\",\\n\\n    # Rheumatology\\n    \"rheumatoid arthritis\": \"Rheumatology\",\\n    \"lupus\": \"Rheumatology\",\\n\\n    # Psychiatry\\n    \"depression\": \"Psychiatry\",\\n    \"schizophrenia\": \"Psychiatry\",\\n    \"anxiety\": \"Psychiatry\",\\n    \"bipolar disorder\": \"Psychiatry\"\\n}'\n"
     ]
    }
   ],
   "source": [
    "!pip install streamlit\n",
    "\n",
    "import streamlit as st\n",
    "import json\n",
    "from Bio import Entrez\n",
    "\n",
    "# Load disease map\n",
    "with open(\"disease_map.json\", \"r\") as f:\n",
    "    content = f.read()\n",
    "    print(repr(content))\n",
    "\n",
    "# Email for Entrez API\n",
    "Entrez.email = \"your_email@example.com\"\n",
    "\n",
    "def fetch_pubmed_abstracts(query, max_results=3):\n",
    "    try:\n",
    "        handle = Entrez.esearch(db=\"pubmed\", term=query, retmax=max_results)\n",
    "        record = Entrez.read(handle)\n",
    "        ids = \",\".join(record[\"IdList\"])\n",
    "\n",
    "        fetch = Entrez.efetch(db=\"pubmed\", id=ids, rettype=\"abstract\", retmode=\"text\")\n",
    "        return fetch.read()\n",
    "    except Exception as e:\n",
    "        return f\"Error fetching abstracts: {e}\"\n",
    "\n",
    "st.title(\"🧠 Disease Tagger & Insight Tool\")\n",
    "\n",
    "user_input = st.text_area(\"Paste a biomedical sentence or paragraph here:\")\n",
    "\n",
    "if user_input:\n",
    "    matched = False\n",
    "    for disease in disease_area_map:\n",
    "        if disease in user_input.lower():\n",
    "            area = disease_area_map[disease]\n",
    "            st.markdown(f\"### 🔬 Disease Detected: `{disease.title()}`\")\n",
    "            st.markdown(f\"**Therapeutic Area**: {area}\")\n",
    "            with st.spinner(\"Fetching PubMed insights...\"):\n",
    "                abstracts = fetch_pubmed_abstracts(disease)\n",
    "                st.text_area(\"📄 Recent Abstracts from PubMed\", abstracts, height=300)\n",
    "            matched = True\n",
    "            break\n",
    "    if not matched:\n",
    "        st.warning(\"❌ No known disease detected in the text.\")\n"
   ]
  },
  {
   "cell_type": "code",
   "execution_count": 27,
   "metadata": {
    "executionInfo": {
     "elapsed": 43,
     "status": "ok",
     "timestamp": 1753900195282,
     "user": {
      "displayName": "Sakshi sharma",
      "userId": "15287343271339922023"
     },
     "user_tz": -330
    },
    "id": "gZy-Y-MImQl0"
   },
   "outputs": [],
   "source": [
    "df.to_csv(\"tagged_sentences.csv\", index=False)"
   ]
  }
 ],
 "metadata": {
  "colab": {
   "authorship_tag": "ABX9TyN8igiCXkkOj/Rc5k+Xh1of",
   "provenance": []
  },
  "kernelspec": {
   "display_name": ".venv",
   "language": "python",
   "name": "python3"
  },
  "language_info": {
   "codemirror_mode": {
    "name": "ipython",
    "version": 3
   },
   "file_extension": ".py",
   "mimetype": "text/x-python",
   "name": "python",
   "nbconvert_exporter": "python",
   "pygments_lexer": "ipython3",
   "version": "3.13.2"
  }
 },
 "nbformat": 4,
 "nbformat_minor": 0
}
